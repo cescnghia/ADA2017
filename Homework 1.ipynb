{
 "cells": [
  {
   "cell_type": "markdown",
   "metadata": {},
   "source": [
    "# Table of Contents\n",
    " <p><div class=\"lev1\"><a href=\"#Task-1.-Compiling-Ebola-Data\"><span class=\"toc-item-num\">Task 1.&nbsp;&nbsp;</span>Compiling Ebola Data</a></div>\n",
    " <div class=\"lev1\"><a href=\"#Task-2.-RNA-Sequences\"><span class=\"toc-item-num\">Task 2.&nbsp;&nbsp;</span>RNA Sequences</a></div>\n",
    " <div class=\"lev1\"><a href=\"#Task-3.-Class-War-in-Titanic\"><span class=\"toc-item-num\">Task 3.&nbsp;&nbsp;</span>Class War in Titanic</a></div></p>"
   ]
  },
  {
   "cell_type": "code",
   "execution_count": null,
   "metadata": {
    "collapsed": true
   },
   "outputs": [],
   "source": [
    "import numpy as np\n",
    "import pandas as pd\n",
    "import os\n",
    "from datetime import date\n",
    "from IPython.core.display import HTML\n",
    "import matplotlib.pyplot as plt\n",
    "%matplotlib inline\n",
    "DATA_FOLDER = 'Data'\n"
   ]
  },
  {
   "cell_type": "markdown",
   "metadata": {},
   "source": [
    "## Task 1. Compiling Ebola Data\n",
    "\n",
    "The `DATA_FOLDER/ebola` folder contains summarized reports of Ebola cases from three countries (Guinea, Liberia and Sierra Leone) during the recent outbreak of the disease in West Africa. For each country, there are daily reports that contain various information about the outbreak in several cities in each country.\n",
    "\n",
    "Use pandas to import these data files into a single `Dataframe`.\n",
    "Using this `DataFrame`, calculate for *each country*, the *daily average per month* of *new cases* and *deaths*.\n",
    "Make sure you handle all the different expressions for *new cases* and *deaths* that are used in the reports."
   ]
  },
  {
   "cell_type": "markdown",
   "metadata": {},
   "source": [
    "### A) Pre-processing data"
   ]
  },
  {
   "cell_type": "code",
   "execution_count": null,
   "metadata": {
    "collapsed": true
   },
   "outputs": [],
   "source": [
    "GUINEA_PATH  = DATA_FOLDER + '/ebola/guinea_data/'\n",
    "LIBERIA_PATH = DATA_FOLDER + '/ebola/liberia_data/'\n",
    "SL_PATH      = DATA_FOLDER + '/ebola/sl_data/'\n",
    "\n",
    "\"\"\"Read data\"\"\"\n",
    "\n",
    "GUINEA_DATAS  = [pd.read_csv(GUINEA_PATH  + file) for file in os.listdir( GUINEA_PATH ) if file.endswith(\".csv\")]\n",
    "LIBERIA_DATAS = [pd.read_csv(LIBERIA_PATH + file) for file in os.listdir( LIBERIA_PATH )if file.endswith(\".csv\")]\n",
    "SL_DATAS      = [pd.read_csv(SL_PATH      + file) for file in os.listdir( SL_PATH )     if file.endswith(\".csv\")]"
   ]
  },
  {
   "cell_type": "code",
   "execution_count": null,
   "metadata": {
    "collapsed": true
   },
   "outputs": [],
   "source": [
    "\"\"\"Concatenate all files of each country and replace missing value by zero\"\"\"\n",
    "\n",
    "GUINEA_dframes  = pd.concat(GUINEA_DATAS)\n",
    "LIBERIA_dframes = pd.concat(LIBERIA_DATAS)\n",
    "SL_dframes      = pd.concat(SL_DATAS)\n",
    "\n",
    "GUINEA_dframes  = GUINEA_dframes .fillna(0)\n",
    "LIBERIA_dframes = LIBERIA_dframes.fillna(0)\n",
    "SL_dframes      = SL_dframes     .fillna(0)"
   ]
  },
  {
   "cell_type": "code",
   "execution_count": null,
   "metadata": {
    "collapsed": true
   },
   "outputs": [],
   "source": [
    "\"\"\"First of all, take a look at data header and decide which columns are useful\"\"\"\n",
    "\n",
    "GUINEA_dframes  = GUINEA_dframes [['Date', 'Description', 'Totals']]\n",
    "LIBERIA_dframes = LIBERIA_dframes[['Date', 'Variable', 'National']]\n",
    "SL_dframes      = SL_dframes     [['date', 'variable', 'National']]"
   ]
  },
  {
   "cell_type": "code",
   "execution_count": null,
   "metadata": {
    "collapsed": true
   },
   "outputs": [],
   "source": [
    "\"\"\"Rename for having the same format\"\"\"\n",
    "\n",
    "LIBERIA_dframes = LIBERIA_dframes.rename(index=str, columns={\"Variable\": \"Description\", \"National\": \"Totals\"})\n",
    "SL_dframes      = SL_dframes.     rename(index=str, columns={\"date\": \"Date\",\"variable\": \"Description\", \"National\": \"Totals\"})"
   ]
  },
  {
   "cell_type": "code",
   "execution_count": null,
   "metadata": {
    "collapsed": true
   },
   "outputs": [],
   "source": [
    "\"\"\"Change format Date of data provided by LIBERIA\"\"\"\n",
    "\"\"\"Change 6/16/2014 (MM/DD/YYYY) to 2014-06-16 (YYYY-MM-DD)\"\"\"\n",
    "\"\"\"Attention with data '6/16/17' 17 means 2017 :)\"\"\"\n",
    "\n",
    "def changeDateFormat(date):\n",
    "    string = date.split('/')\n",
    "    if (len(string[0]) == 1) : string[0] = '0' + string[0]\n",
    "    if (len(string[1]) == 1) : string[1] = '0' + string[1]\n",
    "    if (len(string[2]) == 2) : string[2] = '20'+ string[2]\n",
    "    return string[2] + '-' + string[0] + '-' + string[1]\n",
    "\n",
    "LIBERIA_dframes['Date'] = LIBERIA_dframes['Date'].apply(lambda x : changeDateFormat(str(x)))"
   ]
  },
  {
   "cell_type": "code",
   "execution_count": null,
   "metadata": {
    "collapsed": true
   },
   "outputs": [],
   "source": [
    "\"\"\"Parsing string Date to object TimeDate\"\"\"\n",
    "\n",
    "def parseDate(string):\n",
    "    result = pd.to_datetime(string, format='%Y-%m-%d', errors='coerce')\n",
    "    if (type(result) is pd.tslib.NaTType):\n",
    "        print('Problem man !!!')\n",
    "    return result\n",
    "\n",
    "GUINEA_dframes ['Date'] = GUINEA_dframes ['Date'].apply(lambda x : parseDate(str(x)))\n",
    "LIBERIA_dframes['Date'] = LIBERIA_dframes['Date'].apply(lambda x : parseDate(str(x)))\n",
    "SL_dframes     ['Date'] = SL_dframes     ['Date'].apply(lambda x : parseDate(str(x)))"
   ]
  },
  {
   "cell_type": "code",
   "execution_count": null,
   "metadata": {
    "collapsed": true
   },
   "outputs": [],
   "source": [
    "\"\"\"Insert an extra column Country\"\"\"\n",
    "\n",
    "GUINEA_dframes .insert(3, 'Country', 'GUINEA')\n",
    "LIBERIA_dframes.insert(3, 'Country', 'LIBERIA')\n",
    "SL_dframes     .insert(3, 'Country', 'SL')"
   ]
  },
  {
   "cell_type": "code",
   "execution_count": null,
   "metadata": {
    "collapsed": true
   },
   "outputs": [],
   "source": [
    "\"\"\"Set indexes\"\"\"\n",
    "\n",
    "GUINEA_dframes.index  = range(len(GUINEA_dframes))\n",
    "LIBERIA_dframes.index = range(len(LIBERIA_dframes))\n",
    "SL_dframes.index      = range(len(SL_dframes))\n"
   ]
  },
  {
   "cell_type": "code",
   "execution_count": null,
   "metadata": {
    "collapsed": true
   },
   "outputs": [],
   "source": [
    "\"\"\"Drop all non-integer elements in column 'Totals'\"\"\"\n",
    "\n",
    "GUINEA_dframes  = GUINEA_dframes[ GUINEA_dframes  ['Totals'].apply(lambda x: str(x).isdigit())]\n",
    "#LIBERIA_dframes = LIBERIA_dframes[ LIBERIA_dframes['Totals'].apply(lambda x: x.isdigit() or str(x).isdigit())]\n",
    "SL_dframes      = SL_dframes[ SL_dframes          ['Totals'].apply(lambda x: str(x).isdigit())]"
   ]
  },
  {
   "cell_type": "code",
   "execution_count": null,
   "metadata": {
    "collapsed": true
   },
   "outputs": [],
   "source": [
    "\"\"\"Convert all integer of type string into integer\"\"\"\n",
    "\n",
    "GUINEA_dframes ['Totals'] = pd.to_numeric( GUINEA_dframes ['Totals'], errors='coerce')\n",
    "LIBERIA_dframes['Totals'] = pd.to_numeric( LIBERIA_dframes['Totals'], errors='coerce')\n",
    "SL_dframes     ['Totals'] = pd.to_numeric( SL_dframes     ['Totals'], errors='coerce')"
   ]
  },
  {
   "cell_type": "markdown",
   "metadata": {},
   "source": [
    "### B) Computation"
   ]
  },
  {
   "cell_type": "markdown",
   "metadata": {},
   "source": [
    "#### GUINEA\n",
    "In reports of GUINEA, there are 2 types of new cases: \n",
    "* 'Total new cases' (with a litle 'n' in new cases).\n",
    "* 'New cases' (with a capital 'N' in New cases) which is relevant because we can take into account the case 'New cases of confirmed..' too.\n",
    "\n"
   ]
  },
  {
   "cell_type": "markdown",
   "metadata": {},
   "source": [
    "How do I compute the average ? Well, for each month, I count the total 'New cases' and then devided it by the number of days reported in this month. Par example, in August we have the total of 'New cases' is 300 and it is reported in 3 days. Then we have the average is 300/3 = 100."
   ]
  },
  {
   "cell_type": "code",
   "execution_count": null,
   "metadata": {
    "collapsed": true
   },
   "outputs": [],
   "source": [
    "print('The daily average per month of new cases')\n",
    "\n",
    "\"\"\"Find key New cases\"\"\"\n",
    "GUINEA_newcases = GUINEA_dframes[ [('New cases' in desc) for desc in GUINEA_dframes.Description]]\n",
    "\n",
    "\"\"\"Groupby Month for being able to aggregate in Totals\"\"\"\n",
    "daily = GUINEA_newcases.set_index(['Date']).groupby(pd.TimeGrouper('M'))\n",
    "\n",
    "\"\"\"Groupby Date for being able to count number of days reported in a month\"\"\"\n",
    "days = GUINEA_newcases.groupby(GUINEA_newcases.Date)\n",
    "arr = np.array(list(days.groups.keys()))\n",
    "arr = [x.month for x in arr]\n",
    "\n",
    "\n",
    "\"\"\"Sum over month divided by number of days (length of keys)\"\"\"\n",
    "\n",
    "timestamps = list(daily.groups.keys())\n",
    "sums = daily.Totals.sum()\n",
    "nbMonths = len(timestamps)\n",
    "for i in range(nbMonths):\n",
    "    month = timestamps[i].month\n",
    "    print(\"The average 'new cases' on month {m} is {v}\"\n",
    "              .format(m=month, v=sums[i]/arr.count(month)))\n"
   ]
  },
  {
   "cell_type": "markdown",
   "metadata": {},
   "source": [
    "For me, a confirmation of a death is valided. So I count only the cases that have the key 'confirmed'"
   ]
  },
  {
   "cell_type": "code",
   "execution_count": null,
   "metadata": {
    "collapsed": true
   },
   "outputs": [],
   "source": [
    "print('The daily average per month of deaths')\n",
    "\n",
    "GUINEA_deaths = GUINEA_dframes[ [('confirmed' in desc and \n",
    "                                  'deaths'    in desc and \n",
    "                                  'Total deaths (confirmed + probables + suspects)' not in desc or    \n",
    "                                  (   'deaths registered' in desc and\n",
    "                                      '(confirmed)'   not in desc and\n",
    "                                      '(probables)'   not in desc and\n",
    "                                      '(suspects)'    not in desc \n",
    "                                  )\n",
    "                                ) for desc in GUINEA_dframes.Description]]\n",
    "\n",
    "\"\"\"Groupby Month for being able to aggregate in Totals\"\"\"\n",
    "daily = GUINEA_deaths.set_index(['Date']).groupby(pd.TimeGrouper('M'))\n",
    "\n",
    "\"\"\"Groupby Date for being able to count number of days reported in a month\"\"\"\n",
    "days = GUINEA_deaths.groupby(GUINEA_deaths.Date)\n",
    "arr = np.array(list(days.groups.keys()))\n",
    "arr = [x.month for x in arr]\n",
    "\n",
    "\n",
    "\"\"\"Sum over month divided by number of days (length of keys)\"\"\"\n",
    "\n",
    "timestamps = list(daily.groups.keys())\n",
    "sums = daily.Totals.sum()\n",
    "nbMonths = len(timestamps)\n",
    "for i in range(nbMonths):\n",
    "    month = timestamps[i].month\n",
    "    print(\"The average 'deaths' of month {m} is {v}\"\n",
    "              .format(m=month, v=sums[i]/arr.count(month)))"
   ]
  },
  {
   "cell_type": "markdown",
   "metadata": {},
   "source": [
    "#### LIBERIA"
   ]
  },
  {
   "cell_type": "markdown",
   "metadata": {},
   "source": [
    "The same idea here, in the data we have 4 different words: *New cases*, *New case*, *New Case*, *New Cases*. So we just need to collect all new cases and compute"
   ]
  },
  {
   "cell_type": "code",
   "execution_count": null,
   "metadata": {
    "collapsed": true
   },
   "outputs": [],
   "source": [
    "\"\"\"\"\"\"\n",
    "print('The daily average per month of deaths')\n",
    "\n",
    "\n",
    "LIBERIA_newcases = LIBERIA_dframes[ [('New cases' in desc  or \n",
    "                                      'New case'  in desc  or\n",
    "                                      'New Case'  in desc  or\n",
    "                                      'New Cases' in desc \n",
    "                                     ) for desc in LIBERIA_dframes.Description]]\n",
    "\n",
    "\n",
    "\"\"\"Groupby Month for being able to aggregate in Totals\"\"\"\n",
    "daily = LIBERIA_newcases.set_index(['Date']).groupby(pd.TimeGrouper('M'))\n",
    "\n",
    "\"\"\"Groupby Date for being able to count number of days reported in a specific month\"\"\"\n",
    "days = LIBERIA_newcases.groupby(LIBERIA_newcases.Date)\n",
    "arr = np.array(list(days.groups.keys()))\n",
    "arr = [x.month for x in arr]\n",
    "\n",
    "\n",
    "\"\"\"Sum over month divided by number of days (length of keys)\"\"\"\n",
    "\n",
    "timestamps = list(daily.groups.keys())\n",
    "sums = daily.Totals.sum()\n",
    "nbMonths = len(timestamps)\n",
    "for i in range(nbMonths):\n",
    "    month = timestamps[i].month\n",
    "    print(\"The average 'new cases' on month {m} is {v}\"\n",
    "              .format(m=month, v=sums[i]/arr.count(month)))"
   ]
  },
  {
   "cell_type": "code",
   "execution_count": null,
   "metadata": {
    "collapsed": true
   },
   "outputs": [],
   "source": [
    "LIBERIA_deaths = LIBERIA_dframes[ [( 'deaths' in desc  or \n",
    "                                     'death'  in desc  and                                     \n",
    "                                       'Total death/s in confirmed cases' not in desc and\n",
    "                                    'Total death/s in probable cases' not in desc and\n",
    "                                    'Total death/s in suspected cases' not in desc \n",
    "                                   ) for desc in LIBERIA_dframes.Description]]\n",
    "\n",
    "\"\"\"Groupby Month for being able to aggregate in Totals\"\"\"\n",
    "daily = LIBERIA_deaths.set_index(['Date']).groupby(pd.TimeGrouper('M'))\n",
    "\n",
    "\"\"\"Groupby Date for being able to count number of days reported in a specific month\"\"\"\n",
    "days = LIBERIA_deaths.groupby(LIBERIA_deaths.Date)\n",
    "arr = np.array(list(days.groups.keys()))\n",
    "arr = [x.month for x in arr]\n",
    "\n",
    "\n",
    "\"\"\"Sum over month divided by number of days (length of keys)\"\"\"\n",
    "\n",
    "timestamps = list(daily.groups.keys())\n",
    "sums = daily.Totals.sum()\n",
    "nbMonths = len(timestamps)\n",
    "for i in range(nbMonths):\n",
    "    month = timestamps[i].month\n",
    "    print(\"The average 'deaths' on month {m} is {v}\"\n",
    "              .format(m=month, v=sums[i]/arr.count(month)))"
   ]
  },
  {
   "cell_type": "markdown",
   "metadata": {},
   "source": [
    "#### SL"
   ]
  },
  {
   "cell_type": "code",
   "execution_count": null,
   "metadata": {
    "collapsed": true
   },
   "outputs": [],
   "source": [
    "print('The daily average per month of deaths')\n",
    "\n",
    "\n",
    "SL_newcases = SL_dframes[ [('new_' in desc and 'deaths' not in desc and\n",
    "                            'new_negative' not in desc\n",
    "                                     ) for desc in SL_dframes.Description]]\n",
    "\"\"\"Groupby Month for being able to aggregate in Totals\"\"\"\n",
    "daily = SL_newcases.set_index(['Date']).groupby(pd.TimeGrouper('M'))\n",
    "\n",
    "\"\"\"Groupby Date for being able to count number of days reported in a specific month\"\"\"\n",
    "days = SL_newcases.groupby(SL_newcases.Date)\n",
    "arr = np.array(list(days.groups.keys()))\n",
    "arr = [x.month for x in arr]\n",
    "\n",
    "\n",
    "\"\"\"Sum over month divided by number of days (length of keys)\"\"\"\n",
    "\n",
    "timestamps = list(daily.groups.keys())\n",
    "sums = daily.Totals.sum()\n",
    "nbMonths = len(timestamps)\n",
    "for i in range(nbMonths):\n",
    "    month = timestamps[i].month\n",
    "    print(\"The average 'new cases' on month {m} is {v}\"\n",
    "              .format(m=month, v=sums[i]/arr.count(month)))"
   ]
  },
  {
   "cell_type": "code",
   "execution_count": null,
   "metadata": {
    "collapsed": true
   },
   "outputs": [],
   "source": [
    "SL_deaths = SL_dframes[ [('deaths' in desc or 'Deaths' in desc\n",
    "                                     ) for desc in SL_dframes.Description]]\n",
    "\n",
    "\n",
    "\"\"\"Groupby Month for being able to aggregate in Totals\"\"\"\n",
    "daily = SL_deaths.set_index(['Date']).groupby(pd.TimeGrouper('M'))\n",
    "\n",
    "\"\"\"Groupby Date for being able to count number of days reported in a specific month\"\"\"\n",
    "days = SL_deaths.groupby(SL_deaths.Date)\n",
    "arr = np.array(list(days.groups.keys()))\n",
    "arr = [x.month for x in arr]\n",
    "\n",
    "\"\"\"Sum over month divided by number of days (length of keys)\"\"\"\n",
    "\n",
    "timestamps = list(daily.groups.keys())\n",
    "sums = daily.Totals.sum()\n",
    "nbMonths = len(timestamps)\n",
    "for i in range(nbMonths):\n",
    "    month = timestamps[i].month\n",
    "    print(\"The average 'deaths' on month {m} is {v}\"\n",
    "              .format(m=month, v=sums[i]/arr.count(month)))"
   ]
  },
  {
   "cell_type": "markdown",
   "metadata": {},
   "source": [
    "#### Merge 3 frames"
   ]
  },
  {
   "cell_type": "code",
   "execution_count": null,
   "metadata": {
    "collapsed": true
   },
   "outputs": [],
   "source": [
    "df_all            = pd.concat([GUINEA_dframes, LIBERIA_dframes, SL_dframes])\n",
    "df_all.index      = range(len(df_all))\n",
    "df_all"
   ]
  },
  {
   "cell_type": "markdown",
   "metadata": {},
   "source": [
    "## Task 2. RNA Sequences\n",
    "\n",
    "In the `DATA_FOLDER/microbiome` subdirectory, there are 9 spreadsheets of microbiome data that was acquired from high-throughput RNA sequencing procedures, along with a 10<sup>th</sup> file that describes the content of each. \n",
    "\n",
    "Use pandas to import the first 9 spreadsheets into a single `DataFrame`.\n",
    "Then, add the metadata information from the 10<sup>th</sup> spreadsheet as columns in the combined `DataFrame`.\n",
    "Make sure that the final `DataFrame` has a unique index and all the `NaN` values have been replaced by the tag `unknown`."
   ]
  },
  {
   "cell_type": "code",
   "execution_count": null,
   "metadata": {
    "collapsed": true
   },
   "outputs": [],
   "source": [
    "PATH  = DATA_FOLDER + '/microbiome/'"
   ]
  },
  {
   "cell_type": "code",
   "execution_count": null,
   "metadata": {
    "collapsed": true
   },
   "outputs": [],
   "source": [
    "\"\"\" Read excel files\"\"\"\n",
    "\n",
    "files = [pd.ExcelFile(PATH  + file) for file in os.listdir(PATH) if file.startswith(\"MID\")]\n",
    "frames = [file.parse('Sheet 1') for file in files]"
   ]
  },
  {
   "cell_type": "code",
   "execution_count": null,
   "metadata": {
    "collapsed": true
   },
   "outputs": [],
   "source": [
    "\"\"\"Store the end possition of each sheet \"\"\"\n",
    "indexes = [len(frame) for frame in frames]"
   ]
  },
  {
   "cell_type": "code",
   "execution_count": null,
   "metadata": {
    "collapsed": true
   },
   "outputs": [],
   "source": [
    "\"\"\"Single dataframe with 9 spreadsheets\"\"\"\n",
    "for frame in frames:\n",
    "    frame.columns = ['TAXON', 'COUNT']\n",
    "micro_frames = pd.concat(frames)"
   ]
  },
  {
   "cell_type": "code",
   "execution_count": null,
   "metadata": {
    "collapsed": true
   },
   "outputs": [],
   "source": [
    "\"\"\"Import the 10th file\"\"\"\n",
    "\n",
    "metadata = [pd.ExcelFile(PATH  + file) for file in os.listdir(PATH) if file.startswith(\"meta\")]\n",
    "metadata_frame = [ frame.parse(\"Sheet1\") for frame in metadata]"
   ]
  },
  {
   "cell_type": "code",
   "execution_count": null,
   "metadata": {
    "collapsed": true
   },
   "outputs": [],
   "source": [
    "\"\"\"Create 3 numpy columns SAMPLE, BARCODE, GROUP\"\"\"\n",
    "barcode = np.array([])\n",
    "group = np.array([])\n",
    "sample = np.array([])\n",
    "for index, row in metadata_frame[0].iterrows():\n",
    "    endPos = indexes[index]\n",
    "    if pd.isnull(row['SAMPLE']): \n",
    "        sample = np.append(sample, np.array(['unknown']*endPos))\n",
    "    else :\n",
    "        sample = np.append(sample, np.array([row['SAMPLE']]*endPos))\n",
    "    barcode = np.append(barcode, np.array([row['BARCODE']]*endPos))\n",
    "    group   = np.append(group, np.array([row['GROUP']]*endPos))\n"
   ]
  },
  {
   "cell_type": "code",
   "execution_count": null,
   "metadata": {
    "collapsed": true
   },
   "outputs": [],
   "source": [
    "\"\"\"Concatenation all columns\"\"\"\n",
    "\n",
    "micro_frames['SAMPLE'] = sample\n",
    "micro_frames['BARCODE'] = barcode\n",
    "micro_frames['GROUP'] = group"
   ]
  },
  {
   "cell_type": "code",
   "execution_count": null,
   "metadata": {
    "collapsed": true
   },
   "outputs": [],
   "source": [
    "\"\"\"reorder columns AND groupby...\"\"\"\n",
    "micro_frames = micro_frames[['BARCODE', 'TAXON', 'GROUP', 'COUNT','SAMPLE']]\n",
    "micro_frames.set_index(['BARCODE', 'TAXON'])"
   ]
  },
  {
   "cell_type": "markdown",
   "metadata": {},
   "source": [
    "## Task 3. Class War in Titanic\n",
    "\n",
    "Use pandas to import the data file `Data/titanic.xls`. It contains data on all the passengers that travelled on the Titanic."
   ]
  },
  {
   "cell_type": "code",
   "execution_count": null,
   "metadata": {
    "collapsed": true
   },
   "outputs": [],
   "source": [
    "import random\n",
    "from IPython.core.display import HTML\n",
    "HTML(filename=DATA_FOLDER+'/titanic.html')"
   ]
  },
  {
   "cell_type": "code",
   "execution_count": null,
   "metadata": {
    "collapsed": true
   },
   "outputs": [],
   "source": [
    "data_titanic = pd.read_excel(DATA_FOLDER + '/titanic.xls')\n",
    "data_titanic"
   ]
  },
  {
   "cell_type": "markdown",
   "metadata": {},
   "source": [
    "For each of the following questions state clearly your assumptions and discuss your findings:\n",
    "1. Describe the *type* and the *value range* of each attribute. Indicate and transform the attributes that can be `Categorical`. \n",
    "2. Plot histograms for the *travel class*, *embarkation port*, *sex* and *age* attributes. For the latter one, use *discrete decade intervals*. \n",
    "3. Calculate the proportion of passengers by *cabin floor*. Present your results in a *pie chart*.\n",
    "4. For each *travel class*, calculate the proportion of the passengers that survived. Present your results in *pie charts*.\n",
    "5. Calculate the proportion of the passengers that survived by *travel class* and *sex*. Present your results in *a single histogram*.\n",
    "6. Create 2 equally populated *age categories* and calculate survival proportions by *age category*, *travel class* and *sex*. Present your results in a `DataFrame` with unique index."
   ]
  },
  {
   "cell_type": "code",
   "execution_count": null,
   "metadata": {
    "collapsed": true
   },
   "outputs": [],
   "source": [
    "data_titanic['nb_people'] = 1\n",
    "types = data_titanic.dtypes"
   ]
  },
  {
   "cell_type": "markdown",
   "metadata": {},
   "source": [
    "# pclass"
   ]
  },
  {
   "cell_type": "code",
   "execution_count": null,
   "metadata": {
    "collapsed": true
   },
   "outputs": [],
   "source": [
    "pclass = data_titanic['pclass'].dropna()\n",
    "print(\"the type of pclass is: %s\"%(types[0]))\n",
    "print(\"There are %d different classes: \"%(len(set(pclass))))\n",
    "pclass.unique()"
   ]
  },
  {
   "cell_type": "code",
   "execution_count": null,
   "metadata": {
    "collapsed": true
   },
   "outputs": [],
   "source": [
    "# survived"
   ]
  },
  {
   "cell_type": "code",
   "execution_count": null,
   "metadata": {
    "collapsed": true
   },
   "outputs": [],
   "source": [
    "survived = data_titanic['survived'].dropna()\n",
    "print(\"the type of survived is: %s\"%(types[1]))\n",
    "print(\"There are %d possible values for survived :\"%(len(set(survived))))\n",
    "survived.unique()"
   ]
  },
  {
   "cell_type": "code",
   "execution_count": null,
   "metadata": {
    "collapsed": true
   },
   "outputs": [],
   "source": [
    "# name"
   ]
  },
  {
   "cell_type": "code",
   "execution_count": null,
   "metadata": {
    "collapsed": true
   },
   "outputs": [],
   "source": [
    "name = data_titanic['name'].dropna()\n",
    "print(\"the type of name is: %s\"%(types[2]))\n",
    "print(\"There are %d possible values for name :\"%(len(set(name))))\n",
    "name.unique()"
   ]
  },
  {
   "cell_type": "code",
   "execution_count": null,
   "metadata": {
    "collapsed": true
   },
   "outputs": [],
   "source": [
    "# sex"
   ]
  },
  {
   "cell_type": "code",
   "execution_count": null,
   "metadata": {
    "collapsed": true
   },
   "outputs": [],
   "source": [
    "sex = data_titanic['sex'].dropna()\n",
    "print(\"the type of sex is: %s\"%(types[3]))\n",
    "print(\"There are %d possible values for sex :\"%(len(set(sex))))\n",
    "sex.unique()"
   ]
  },
  {
   "cell_type": "code",
   "execution_count": null,
   "metadata": {
    "collapsed": true
   },
   "outputs": [],
   "source": [
    "# age"
   ]
  },
  {
   "cell_type": "code",
   "execution_count": null,
   "metadata": {
    "collapsed": true
   },
   "outputs": [],
   "source": [
    "age = data_titanic['age'].dropna()\n",
    "print(\"the type of age is: %s\"%(types[4]))\n",
    "print(\"the min age is %f and the max age is %f\"%(age.min(),age.max()))\n",
    "print(\"There are %d possible values for age :\"%(len(set(age))))\n",
    "age.unique()"
   ]
  },
  {
   "cell_type": "code",
   "execution_count": null,
   "metadata": {
    "collapsed": true
   },
   "outputs": [],
   "source": [
    "# sibsp"
   ]
  },
  {
   "cell_type": "code",
   "execution_count": null,
   "metadata": {
    "collapsed": true
   },
   "outputs": [],
   "source": [
    "sibsp = data_titanic['sibsp'].dropna()\n",
    "print(\"the type of sibsp is: %s\"%(types[5]))\n",
    "print(\"There are %d possible values for sibsp :\"%(len(set(sibsp))))\n",
    "sibsp.unique()"
   ]
  },
  {
   "cell_type": "code",
   "execution_count": null,
   "metadata": {
    "collapsed": true
   },
   "outputs": [],
   "source": [
    "# parch"
   ]
  },
  {
   "cell_type": "code",
   "execution_count": null,
   "metadata": {
    "collapsed": true
   },
   "outputs": [],
   "source": [
    "parch = data_titanic['parch'].dropna()\n",
    "print(\"the type of parch is: %s\"%(types[6]))\n",
    "print(\"There are %d possible values for parch :\"%(len(set(parch))))\n",
    "parch.unique()"
   ]
  },
  {
   "cell_type": "code",
   "execution_count": null,
   "metadata": {
    "collapsed": true
   },
   "outputs": [],
   "source": [
    "# ticket"
   ]
  },
  {
   "cell_type": "code",
   "execution_count": null,
   "metadata": {
    "collapsed": true
   },
   "outputs": [],
   "source": [
    "ticket = data_titanic['ticket'].dropna()\n",
    "print(\"the type of ticket is: %s\"%(types[7]))\n",
    "print(\"There are %d possible values for ticket :\"%(len(set(ticket))))\n",
    "ticket.unique()"
   ]
  },
  {
   "cell_type": "code",
   "execution_count": null,
   "metadata": {
    "collapsed": true
   },
   "outputs": [],
   "source": [
    "# fare"
   ]
  },
  {
   "cell_type": "code",
   "execution_count": null,
   "metadata": {
    "collapsed": true
   },
   "outputs": [],
   "source": [
    "fare = data_titanic['fare'].dropna()\n",
    "print(\"the type of fare is: %s\"%(types[8]))\n",
    "print(\"the min fare is %f and the max fare is %f\"%(fare.min(),fare.max()))\n",
    "print(\"There are %d possible values for fare :\"%(len(set(fare))))\n",
    "fare.unique()"
   ]
  },
  {
   "cell_type": "code",
   "execution_count": null,
   "metadata": {
    "collapsed": true
   },
   "outputs": [],
   "source": [
    "# cabin"
   ]
  },
  {
   "cell_type": "code",
   "execution_count": null,
   "metadata": {
    "collapsed": true
   },
   "outputs": [],
   "source": [
    "cabin = data_titanic['cabin'].dropna()\n",
    "print(\"the type of cabin is: %s\"%(types[9]))\n",
    "print(\"There are %d possible values for cabin :\"%(len(set(cabin))))\n",
    "cabin.unique()"
   ]
  },
  {
   "cell_type": "code",
   "execution_count": null,
   "metadata": {
    "collapsed": true
   },
   "outputs": [],
   "source": [
    "# embarked"
   ]
  },
  {
   "cell_type": "code",
   "execution_count": null,
   "metadata": {
    "collapsed": true
   },
   "outputs": [],
   "source": [
    "embarked = data_titanic['embarked'].dropna()\n",
    "print(\"the type of embarked is: %s\"%(types[10]))\n",
    "print(\"There are %d possible values for embarked :\"%(len(set(embarked))))\n",
    "embarked.unique()"
   ]
  },
  {
   "cell_type": "code",
   "execution_count": null,
   "metadata": {
    "collapsed": true
   },
   "outputs": [],
   "source": [
    "# boat"
   ]
  },
  {
   "cell_type": "code",
   "execution_count": null,
   "metadata": {
    "collapsed": true
   },
   "outputs": [],
   "source": [
    "boat = data_titanic['boat'].dropna()\n",
    "print(\"the type of boat is: %s\"%(types[11]))\n",
    "print(\"There are %d possible values for boat :\"%(len(set(boat))))\n",
    "boat.unique()"
   ]
  },
  {
   "cell_type": "code",
   "execution_count": null,
   "metadata": {
    "collapsed": true
   },
   "outputs": [],
   "source": [
    "# body"
   ]
  },
  {
   "cell_type": "code",
   "execution_count": null,
   "metadata": {
    "collapsed": true
   },
   "outputs": [],
   "source": [
    "body = data_titanic['body'].dropna()\n",
    "print(\"the type of boat is: %s\"%(types[12]))\n",
    "print(\"There are %d body values for body :\"%(len(set(body))))\n",
    "body.unique()"
   ]
  },
  {
   "cell_type": "code",
   "execution_count": null,
   "metadata": {
    "collapsed": true
   },
   "outputs": [],
   "source": [
    "# home.dest"
   ]
  },
  {
   "cell_type": "code",
   "execution_count": null,
   "metadata": {
    "collapsed": true
   },
   "outputs": [],
   "source": [
    "home_dest = data_titanic['home.dest'].dropna()\n",
    "print(\"the type of home.dest is: %s\"%(types[13]))\n",
    "print(\"There are %d body values for home.dest :\"%(len(set(home_dest))))\n",
    "home_dest.unique()"
   ]
  },
  {
   "cell_type": "code",
   "execution_count": null,
   "metadata": {
    "collapsed": true
   },
   "outputs": [],
   "source": [
    "We can transform the following attributes in categorical:\n",
    "-  sex \n",
    "-  survived \n",
    "-  pclass \n",
    "-  embarked\n",
    "-  sibsp\n",
    "-  parch"
   ]
  },
  {
   "cell_type": "code",
   "execution_count": null,
   "metadata": {
    "collapsed": true
   },
   "outputs": [],
   "source": [
    "pd.Categorical(data_titanic.sex)\n",
    "pd.Categorical(data_titanic.survived)\n",
    "pd.Categorical(data_titanic.embarked)\n",
    "pd.Categorical(data_titanic.pclass)\n",
    "pd.Categorical(data_titanic.sibsp)\n",
    "pd.Categorical(data_titanic.parch)"
   ]
  },
  {
   "cell_type": "code",
   "execution_count": null,
   "metadata": {
    "collapsed": true
   },
   "outputs": [],
   "source": [
    "# Travel class"
   ]
  },
  {
   "cell_type": "code",
   "execution_count": null,
   "metadata": {
    "collapsed": true
   },
   "outputs": [],
   "source": [
    "#count the number of passangers per class and represent it in a histogram\n",
    "plot_class = data_titanic.pclass.value_counts().plot(kind='bar', title='Number of passangers per travel class')\n",
    "plot_class.set_xlabel(\"class\")\n",
    "plot_class.set_ylabel(\"nb of passangers\")"
   ]
  },
  {
   "cell_type": "code",
   "execution_count": null,
   "metadata": {
    "collapsed": true
   },
   "outputs": [],
   "source": [
    "# Embarkation port"
   ]
  },
  {
   "cell_type": "code",
   "execution_count": null,
   "metadata": {
    "collapsed": true
   },
   "outputs": [],
   "source": [
    "#add a random embarkation port when it is missing\n",
    "data_titanic.embarked.fillna(random.choice(['S','C','Q']))\n",
    "plot_port = data_titanic.embarked.value_counts().plot(kind='bar', title='Number of passangers per embarkation port')\n",
    "plot_port.set_xlabel(\"port\")\n",
    "plot_port.set_ylabel(\"nb of passangers\")"
   ]
  },
  {
   "cell_type": "code",
   "execution_count": null,
   "metadata": {
    "collapsed": true
   },
   "outputs": [],
   "source": [
    "# Sex"
   ]
  },
  {
   "cell_type": "code",
   "execution_count": null,
   "metadata": {
    "collapsed": true
   },
   "outputs": [],
   "source": [
    "#count the number of people of each sex\n",
    "plot_sex = data_titanic.sex.value_counts().plot(kind='bar', title='')\n",
    "plot_sex.set_xlabel(\"sex\")\n",
    "plot_sex.set_ylabel(\"nb of passangers\")"
   ]
  },
  {
   "cell_type": "code",
   "execution_count": null,
   "metadata": {
    "collapsed": true
   },
   "outputs": [],
   "source": [
    "# Age"
   ]
  },
  {
   "cell_type": "code",
   "execution_count": null,
   "metadata": {
    "collapsed": true
   },
   "outputs": [],
   "source": [
    "#drop all the fields with missing age and associate every age with the decade interval it is in\n",
    "a = pd.cut(data_titanic.age.dropna(), [0,10,20,30,40,50,60,70,80])\n",
    "b = pd.DataFrame(a).reset_index()\n",
    "c = b.groupby('age').count()\n",
    "c.plot(kind=\"bar\")\n",
    "\n"
   ]
  },
  {
   "cell_type": "code",
   "execution_count": null,
   "metadata": {
    "collapsed": true
   },
   "outputs": [],
   "source": [
    "# I assume we only have the following floors and I don't take into consideration the fields that don't have a \n",
    "# valid cabin number\n",
    "floors = ['A','B','C','D','E','F','G']\n",
    "cabins = data_titanic.cabin.dropna()\n",
    "data_titanic['floor']= data_titanic['cabin'].apply(lambda x: str(x)[0] if str(x)[0] in floors else 'Unknown')\n",
    "\n",
    "floor_groups = data_titanic[['floor', 'nb_people']].groupby(['floor']).size()\n",
    "series_floors = pd.Series(floor_groups, index=['A','B','C','D','E','F','G','Unknown'], name='')\n",
    "series_floors.plot.pie(figsize=(6, 6), title = 'Nb of people per floor')\n",
    "\n"
   ]
  },
  {
   "cell_type": "code",
   "execution_count": null,
   "metadata": {
    "collapsed": true
   },
   "outputs": [],
   "source": [
    "#calculate the number of people per travel class\n",
    "nb_people_1 = data_titanic[pclass == 1]['pclass'].count()\n",
    "nb_people_2 = data_titanic[pclass == 2]['pclass'].count()\n",
    "nb_people_3 = data_titanic[pclass == 3]['pclass'].count()\n",
    "\n",
    "#calculate the number of people that survived and group it by class\n",
    "survived_class = data_titanic[data_titanic.survived == 1][['pclass','nb_people']].groupby(['pclass']).size()\n",
    "#normalise the nb of people that survived by class\n",
    "series_class1 = pd.Series([survived_class[1]/nb_people_1, 1- survived_class[1]/nb_people_1], name ='', index = [\"survived\", \"dead\"])\n",
    "series_class2 = pd.Series([survived_class[2]/nb_people_2, 1- survived_class[2]/nb_people_2],name = '',index = [\"survived\", \"dead\"])                          \n",
    "series_class3 = pd.Series([survived_class[3]/nb_people_3,1 -survived_class[3]/nb_people_3 ], name = '',index = [\"survived\", \"dead\"])\n",
    "\n"
   ]
  },
  {
   "cell_type": "code",
   "execution_count": null,
   "metadata": {
    "collapsed": true
   },
   "outputs": [],
   "source": [
    "series_class1.plot.pie(figsize=(6, 6), title = 'Nb of people survived in 1st class')"
   ]
  },
  {
   "cell_type": "code",
   "execution_count": null,
   "metadata": {
    "collapsed": true
   },
   "outputs": [],
   "source": [
    "series_class2.plot.pie(figsize=(6, 6), title = 'Nb of people survived in 2nd class')"
   ]
  },
  {
   "cell_type": "code",
   "execution_count": null,
   "metadata": {
    "collapsed": true
   },
   "outputs": [],
   "source": [
    "series_class3.plot.pie(figsize=(6, 6), title = 'Nb of people survived in 3rd class')"
   ]
  },
  {
   "cell_type": "code",
   "execution_count": null,
   "metadata": {
    "collapsed": true
   },
   "outputs": [],
   "source": [
    "\n",
    "s_sex_class = data_titanic[data_titanic.survived == 1][['pclass','sex','nb_people']].groupby(['pclass','sex'])['pclass'].count().unstack('sex')\n",
    "s_sex_class = s_sex_class/data_titanic[data_titanic.survived== 1]['nb_people'].count()\n",
    "\n",
    "plot_s = s_sex_class.plot(kind='bar', stacked=True)\n",
    "plot_s.set_xlabel('Class')\n",
    "plot_s.set_ylabel('nb of people')\n",
    "plot_s.set_title('Survived passenger by class and sex')\n",
    "s_sex_class"
   ]
  },
  {
   "cell_type": "code",
   "execution_count": null,
   "metadata": {
    "collapsed": true
   },
   "outputs": [],
   "source": [
    "age = data_titanic['age'].dropna()\n",
    "#divide people by age in two intervals: younger than 28 and older than 28\n",
    "age_cut = pd.cut(age, [0,28,80], \n",
    "                  labels=['<28', '>=28'], include_lowest=True)\n",
    "#add a new field age-cat\n",
    "data_titanic['age-cat'] = age_cut\n",
    "catsdata = data_titanic[['age-cat']]\n",
    "data_titanic[['age-cat', 'nb_people']].groupby(['age-cat']).sum()"
   ]
  },
  {
   "cell_type": "code",
   "execution_count": null,
   "metadata": {
    "collapsed": true
   },
   "outputs": [],
   "source": [
    "survived = data_titanic[data_titanic.survived == 1][['pclass','nb_people','sex','age-cat']].groupby(['age-cat','pclass','sex']).sum()\n",
    "survived"
   ]
  }
 ],
 "metadata": {
  "kernelspec": {
   "display_name": "Python [default]",
   "language": "python",
   "name": "python3"
  },
  "language_info": {
   "codemirror_mode": {
    "name": "ipython",
    "version": 3
   },
   "file_extension": ".py",
   "mimetype": "text/x-python",
   "name": "python",
   "nbconvert_exporter": "python",
   "pygments_lexer": "ipython3",
   "version": "3.6.2"
  }
 },
 "nbformat": 4,
 "nbformat_minor": 2
}
