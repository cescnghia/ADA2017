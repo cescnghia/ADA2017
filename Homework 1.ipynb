{
 "cells": [
  {
   "cell_type": "markdown",
   "metadata": {},
   "source": [
    "# Table of Contents\n",
    " <p><div class=\"lev1\"><a href=\"#Task-1.-Compiling-Ebola-Data\"><span class=\"toc-item-num\">Task 1.&nbsp;&nbsp;</span>Compiling Ebola Data</a></div>\n",
    " <div class=\"lev1\"><a href=\"#Task-2.-RNA-Sequences\"><span class=\"toc-item-num\">Task 2.&nbsp;&nbsp;</span>RNA Sequences</a></div>\n",
    " <div class=\"lev1\"><a href=\"#Task-3.-Class-War-in-Titanic\"><span class=\"toc-item-num\">Task 3.&nbsp;&nbsp;</span>Class War in Titanic</a></div></p>"
   ]
  },
  {
   "cell_type": "code",
   "execution_count": null,
   "metadata": {
    "collapsed": false
   },
   "outputs": [],
   "source": [
    "import numpy as np\n",
    "import pandas as pd\n",
    "import os\n",
    "from datetime import date\n",
    "from IPython.core.display import HTML\n",
    "import matplotlib.pyplot as plt\n",
    "%matplotlib inline\n",
    "DATA_FOLDER = 'Data'\n"
   ]
  },
  {
   "cell_type": "markdown",
   "metadata": {},
   "source": [
    "## Task 1. Compiling Ebola Data\n",
    "\n",
    "The `DATA_FOLDER/ebola` folder contains summarized reports of Ebola cases from three countries (Guinea, Liberia and Sierra Leone) during the recent outbreak of the disease in West Africa. For each country, there are daily reports that contain various information about the outbreak in several cities in each country.\n",
    "\n",
    "Use pandas to import these data files into a single `Dataframe`.\n",
    "Using this `DataFrame`, calculate for *each country*, the *daily average per month* of *new cases* and *deaths*.\n",
    "Make sure you handle all the different expressions for *new cases* and *deaths* that are used in the reports."
   ]
  },
  {
   "cell_type": "markdown",
   "metadata": {},
   "source": [
    "### A) Pre-processing data"
   ]
  },
  {
   "cell_type": "code",
   "execution_count": null,
   "metadata": {
    "collapsed": false
   },
   "outputs": [],
   "source": [
    "GUINEA_PATH  = DATA_FOLDER + '/ebola/guinea_data/'\n",
    "LIBERIA_PATH = DATA_FOLDER + '/ebola/liberia_data/'\n",
    "SL_PATH      = DATA_FOLDER + '/ebola/sl_data/'\n",
    "\n",
    "\"\"\"Read data\"\"\"\n",
    "\n",
    "GUINEA_DATAS  = [pd.read_csv(GUINEA_PATH  + file) for file in os.listdir( GUINEA_PATH ) if file.endswith(\".csv\")]\n",
    "LIBERIA_DATAS = [pd.read_csv(LIBERIA_PATH + file) for file in os.listdir( LIBERIA_PATH )if file.endswith(\".csv\")]\n",
    "SL_DATAS      = [pd.read_csv(SL_PATH      + file) for file in os.listdir( SL_PATH )     if file.endswith(\".csv\")]"
   ]
  },
  {
   "cell_type": "code",
   "execution_count": null,
   "metadata": {
    "collapsed": false
   },
   "outputs": [],
   "source": [
    "\"\"\"Concatenate all files of each country and replace missing value by zero\"\"\"\n",
    "\n",
    "GUINEA_dframes  = pd.concat(GUINEA_DATAS)\n",
    "LIBERIA_dframes = pd.concat(LIBERIA_DATAS)\n",
    "SL_dframes      = pd.concat(SL_DATAS)\n",
    "\n",
    "GUINEA_dframes  = GUINEA_dframes .fillna(0)\n",
    "LIBERIA_dframes = LIBERIA_dframes.fillna(0)\n",
    "SL_dframes      = SL_dframes     .fillna(0)"
   ]
  },
  {
   "cell_type": "code",
   "execution_count": null,
   "metadata": {
    "collapsed": false
   },
   "outputs": [],
   "source": [
    "\"\"\"First of all, take a look at data header and decide which columns are useful\"\"\"\n",
    "\n",
    "GUINEA_dframes  = GUINEA_dframes [['Date', 'Description', 'Totals']]\n",
    "LIBERIA_dframes = LIBERIA_dframes[['Date', 'Variable', 'National']]\n",
    "SL_dframes      = SL_dframes     [['date', 'variable', 'National']]"
   ]
  },
  {
   "cell_type": "code",
   "execution_count": null,
   "metadata": {
    "collapsed": false
   },
   "outputs": [],
   "source": [
    "\"\"\"Rename for having the same format\"\"\"\n",
    "\n",
    "LIBERIA_dframes = LIBERIA_dframes.rename(index=str, columns={\"Variable\": \"Description\", \"National\": \"Totals\"})\n",
    "SL_dframes      = SL_dframes.     rename(index=str, columns={\"date\": \"Date\",\"variable\": \"Description\", \"National\": \"Totals\"})"
   ]
  },
  {
   "cell_type": "code",
   "execution_count": null,
   "metadata": {
    "collapsed": false
   },
   "outputs": [],
   "source": [
    "\"\"\"Change format Date of data provided by LIBERIA\"\"\"\n",
    "\"\"\"Change 6/16/2014 (MM/DD/YYYY) to 2014-06-16 (YYYY-MM-DD)\"\"\"\n",
    "\"\"\"Attention with data '6/16/17' 17 means 2017 :)\"\"\"\n",
    "\n",
    "def changeDateFormat(date):\n",
    "    string = date.split('/')\n",
    "    if (len(string[0]) == 1) : string[0] = '0' + string[0]\n",
    "    if (len(string[1]) == 1) : string[1] = '0' + string[1]\n",
    "    if (len(string[2]) == 2) : string[2] = '20'+ string[2]\n",
    "    return string[2] + '-' + string[0] + '-' + string[1]\n",
    "\n",
    "LIBERIA_dframes['Date'] = LIBERIA_dframes['Date'].apply(lambda x : changeDateFormat(str(x)))"
   ]
  },
  {
   "cell_type": "code",
   "execution_count": null,
   "metadata": {
    "collapsed": true
   },
   "outputs": [],
   "source": [
    "\"\"\"Parsing string Date to object TimeDate\"\"\"\n",
    "\n",
    "def parseDate(string):\n",
    "    result = pd.to_datetime(string, format='%Y-%m-%d', errors='coerce')\n",
    "    if (type(result) is pd.tslib.NaTType):\n",
    "        print('Problem man !!!')\n",
    "    return result\n",
    "\n",
    "GUINEA_dframes ['Date'] = GUINEA_dframes ['Date'].apply(lambda x : parseDate(str(x)))\n",
    "LIBERIA_dframes['Date'] = LIBERIA_dframes['Date'].apply(lambda x : parseDate(str(x)))\n",
    "SL_dframes     ['Date'] = SL_dframes     ['Date'].apply(lambda x : parseDate(str(x)))"
   ]
  },
  {
   "cell_type": "code",
   "execution_count": null,
   "metadata": {
    "collapsed": false
   },
   "outputs": [],
   "source": [
    "\"\"\"Insert an extra column Country\"\"\"\n",
    "\n",
    "GUINEA_dframes .insert(3, 'Country', 'GUINEA')\n",
    "LIBERIA_dframes.insert(3, 'Country', 'LIBERIA')\n",
    "SL_dframes     .insert(3, 'Country', 'SL')"
   ]
  },
  {
   "cell_type": "code",
   "execution_count": null,
   "metadata": {
    "collapsed": true
   },
   "outputs": [],
   "source": [
    "\"\"\"Set indexes\"\"\"\n",
    "\n",
    "GUINEA_dframes.index  = range(len(GUINEA_dframes))\n",
    "LIBERIA_dframes.index = range(len(LIBERIA_dframes))\n",
    "SL_dframes.index      = range(len(SL_dframes))\n"
   ]
  },
  {
   "cell_type": "code",
   "execution_count": null,
   "metadata": {
    "collapsed": false
   },
   "outputs": [],
   "source": [
    "\"\"\"Drop all non-integer elements in column 'Totals'\"\"\"\n",
    "\n",
    "GUINEA_dframes  = GUINEA_dframes[ GUINEA_dframes  ['Totals'].apply(lambda x: str(x).isdigit())]\n",
    "#LIBERIA_dframes = LIBERIA_dframes[ LIBERIA_dframes['Totals'].apply(lambda x: x.isdigit() or str(x).isdigit())]\n",
    "SL_dframes      = SL_dframes[ SL_dframes          ['Totals'].apply(lambda x: str(x).isdigit())]"
   ]
  },
  {
   "cell_type": "code",
   "execution_count": null,
   "metadata": {
    "collapsed": false
   },
   "outputs": [],
   "source": [
    "\"\"\"Convert all integer of type string into integer\"\"\"\n",
    "\n",
    "GUINEA_dframes ['Totals'] = pd.to_numeric( GUINEA_dframes ['Totals'], errors='coerce')\n",
    "LIBERIA_dframes['Totals'] = pd.to_numeric( LIBERIA_dframes['Totals'], errors='coerce')\n",
    "SL_dframes     ['Totals'] = pd.to_numeric( SL_dframes     ['Totals'], errors='coerce')"
   ]
  },
  {
   "cell_type": "markdown",
   "metadata": {},
   "source": [
    "### B) Computation"
   ]
  },
  {
   "cell_type": "markdown",
   "metadata": {},
   "source": [
    "#### GUINEA\n",
    "In reports of GUINEA, there are 2 types of new cases: \n",
    "* 'Total new cases' (with a litle 'n' in new cases).\n",
    "* 'New cases' (with a capital 'N' in New cases) which is relevant because we can take into account the case 'New cases of confirmed..' too.\n",
    "\n"
   ]
  },
  {
   "cell_type": "markdown",
   "metadata": {},
   "source": [
    "How do I compute the average ? Well, for each month, I count the total 'New cases' and then devided it by the number of days reported in this month. Par example, in August we have the total of 'New cases' is 300 and it is reported in 3 days. Then we have the average is 300/3 = 100."
   ]
  },
  {
   "cell_type": "code",
   "execution_count": null,
   "metadata": {
    "collapsed": false
   },
   "outputs": [],
   "source": [
    "print('The daily average per month of new cases')\n",
    "\n",
    "\"\"\"Find key New cases\"\"\"\n",
    "GUINEA_newcases = GUINEA_dframes[ [('New cases' in desc) for desc in GUINEA_dframes.Description]]\n",
    "\n",
    "\"\"\"Groupby Month for being able to aggregate in Totals\"\"\"\n",
    "daily = GUINEA_newcases.set_index(['Date']).groupby(pd.TimeGrouper('M'))\n",
    "\n",
    "\"\"\"Groupby Date for being able to count number of days reported in a month\"\"\"\n",
    "days = GUINEA_newcases.groupby(GUINEA_newcases.Date)\n",
    "arr = np.array(list(days.groups.keys()))\n",
    "arr = [x.month for x in arr]\n",
    "\n",
    "\n",
    "\"\"\"Sum over month divided by number of days (length of keys)\"\"\"\n",
    "\n",
    "timestamps = list(daily.groups.keys())\n",
    "sums = daily.Totals.sum()\n",
    "nbMonths = len(timestamps)\n",
    "for i in range(nbMonths):\n",
    "    month = timestamps[i].month\n",
    "    print(\"The average 'new cases' on month {m} is {v}\"\n",
    "              .format(m=month, v=sums[i]/arr.count(month)))\n"
   ]
  },
  {
   "cell_type": "markdown",
   "metadata": {},
   "source": [
    "For me, a confirmation of a death is valided. So I count only the cases that have the key 'confirmed'"
   ]
  },
  {
   "cell_type": "code",
   "execution_count": null,
   "metadata": {
    "collapsed": false
   },
   "outputs": [],
   "source": [
    "print('The daily average per month of deaths')\n",
    "\n",
    "GUINEA_deaths = GUINEA_dframes[ [('confirmed' in desc and \n",
    "                                  'deaths'    in desc and \n",
    "                                  'Total deaths (confirmed + probables + suspects)' not in desc or    \n",
    "                                  (   'deaths registered' in desc and\n",
    "                                      '(confirmed)'   not in desc and\n",
    "                                      '(probables)'   not in desc and\n",
    "                                      '(suspects)'    not in desc \n",
    "                                  )\n",
    "                                ) for desc in GUINEA_dframes.Description]]\n",
    "\n",
    "\"\"\"Groupby Month for being able to aggregate in Totals\"\"\"\n",
    "daily = GUINEA_deaths.set_index(['Date']).groupby(pd.TimeGrouper('M'))\n",
    "\n",
    "\"\"\"Groupby Date for being able to count number of days reported in a month\"\"\"\n",
    "days = GUINEA_deaths.groupby(GUINEA_deaths.Date)\n",
    "arr = np.array(list(days.groups.keys()))\n",
    "arr = [x.month for x in arr]\n",
    "\n",
    "\n",
    "\"\"\"Sum over month divided by number of days (length of keys)\"\"\"\n",
    "\n",
    "timestamps = list(daily.groups.keys())\n",
    "sums = daily.Totals.sum()\n",
    "nbMonths = len(timestamps)\n",
    "for i in range(nbMonths):\n",
    "    month = timestamps[i].month\n",
    "    print(\"The average 'deaths' of month {m} is {v}\"\n",
    "              .format(m=month, v=sums[i]/arr.count(month)))"
   ]
  },
  {
   "cell_type": "markdown",
   "metadata": {},
   "source": [
    "#### LIBERIA"
   ]
  },
  {
   "cell_type": "markdown",
   "metadata": {},
   "source": [
    "The same idea here, in the data we have 4 different words: *New cases*, *New case*, *New Case*, *New Cases*. So we just need to collect all new cases and compute"
   ]
  },
  {
   "cell_type": "code",
   "execution_count": null,
   "metadata": {
    "collapsed": false
   },
   "outputs": [],
   "source": [
    "\"\"\"\"\"\"\n",
    "print('The daily average per month of deaths')\n",
    "\n",
    "\n",
    "LIBERIA_newcases = LIBERIA_dframes[ [('New cases' in desc  or \n",
    "                                      'New case'  in desc  or\n",
    "                                      'New Case'  in desc  or\n",
    "                                      'New Cases' in desc \n",
    "                                     ) for desc in LIBERIA_dframes.Description]]\n",
    "\n",
    "\n",
    "\"\"\"Groupby Month for being able to aggregate in Totals\"\"\"\n",
    "daily = LIBERIA_newcases.set_index(['Date']).groupby(pd.TimeGrouper('M'))\n",
    "\n",
    "\"\"\"Groupby Date for being able to count number of days reported in a specific month\"\"\"\n",
    "days = LIBERIA_newcases.groupby(LIBERIA_newcases.Date)\n",
    "arr = np.array(list(days.groups.keys()))\n",
    "arr = [x.month for x in arr]\n",
    "\n",
    "\n",
    "\"\"\"Sum over month divided by number of days (length of keys)\"\"\"\n",
    "\n",
    "timestamps = list(daily.groups.keys())\n",
    "sums = daily.Totals.sum()\n",
    "nbMonths = len(timestamps)\n",
    "for i in range(nbMonths):\n",
    "    month = timestamps[i].month\n",
    "    print(\"The average 'new cases' on month {m} is {v}\"\n",
    "              .format(m=month, v=sums[i]/arr.count(month)))"
   ]
  },
  {
   "cell_type": "code",
   "execution_count": null,
   "metadata": {
    "collapsed": false
   },
   "outputs": [],
   "source": [
    "LIBERIA_deaths = LIBERIA_dframes[ [( 'deaths' in desc  or \n",
    "                                     'death'  in desc  and                                     \n",
    "                                       'Total death/s in confirmed cases' not in desc and\n",
    "                                    'Total death/s in probable cases' not in desc and\n",
    "                                    'Total death/s in suspected cases' not in desc \n",
    "                                   ) for desc in LIBERIA_dframes.Description]]\n",
    "\n",
    "\"\"\"Groupby Month for being able to aggregate in Totals\"\"\"\n",
    "daily = LIBERIA_deaths.set_index(['Date']).groupby(pd.TimeGrouper('M'))\n",
    "\n",
    "\"\"\"Groupby Date for being able to count number of days reported in a specific month\"\"\"\n",
    "days = LIBERIA_deaths.groupby(LIBERIA_deaths.Date)\n",
    "arr = np.array(list(days.groups.keys()))\n",
    "arr = [x.month for x in arr]\n",
    "\n",
    "\n",
    "\"\"\"Sum over month divided by number of days (length of keys)\"\"\"\n",
    "\n",
    "timestamps = list(daily.groups.keys())\n",
    "sums = daily.Totals.sum()\n",
    "nbMonths = len(timestamps)\n",
    "for i in range(nbMonths):\n",
    "    month = timestamps[i].month\n",
    "    print(\"The average 'deaths' on month {m} is {v}\"\n",
    "              .format(m=month, v=sums[i]/arr.count(month)))"
   ]
  },
  {
   "cell_type": "markdown",
   "metadata": {},
   "source": [
    "#### SL"
   ]
  },
  {
   "cell_type": "code",
   "execution_count": null,
   "metadata": {
    "collapsed": false
   },
   "outputs": [],
   "source": [
    "print('The daily average per month of deaths')\n",
    "\n",
    "\n",
    "SL_newcases = SL_dframes[ [('new_' in desc and 'deaths' not in desc and\n",
    "                            'new_negative' not in desc\n",
    "                                     ) for desc in SL_dframes.Description]]\n",
    "\"\"\"Groupby Month for being able to aggregate in Totals\"\"\"\n",
    "daily = SL_newcases.set_index(['Date']).groupby(pd.TimeGrouper('M'))\n",
    "\n",
    "\"\"\"Groupby Date for being able to count number of days reported in a specific month\"\"\"\n",
    "days = SL_newcases.groupby(SL_newcases.Date)\n",
    "arr = np.array(list(days.groups.keys()))\n",
    "arr = [x.month for x in arr]\n",
    "\n",
    "\n",
    "\"\"\"Sum over month divided by number of days (length of keys)\"\"\"\n",
    "\n",
    "timestamps = list(daily.groups.keys())\n",
    "sums = daily.Totals.sum()\n",
    "nbMonths = len(timestamps)\n",
    "for i in range(nbMonths):\n",
    "    month = timestamps[i].month\n",
    "    print(\"The average 'new cases' on month {m} is {v}\"\n",
    "              .format(m=month, v=sums[i]/arr.count(month)))"
   ]
  },
  {
   "cell_type": "code",
   "execution_count": null,
   "metadata": {
    "collapsed": false
   },
   "outputs": [],
   "source": [
    "SL_deaths = SL_dframes[ [('deaths' in desc or 'Deaths' in desc\n",
    "                                     ) for desc in SL_dframes.Description]]\n",
    "\n",
    "\n",
    "\"\"\"Groupby Month for being able to aggregate in Totals\"\"\"\n",
    "daily = SL_deaths.set_index(['Date']).groupby(pd.TimeGrouper('M'))\n",
    "\n",
    "\"\"\"Groupby Date for being able to count number of days reported in a specific month\"\"\"\n",
    "days = SL_deaths.groupby(SL_deaths.Date)\n",
    "arr = np.array(list(days.groups.keys()))\n",
    "arr = [x.month for x in arr]\n",
    "\n",
    "\"\"\"Sum over month divided by number of days (length of keys)\"\"\"\n",
    "\n",
    "timestamps = list(daily.groups.keys())\n",
    "sums = daily.Totals.sum()\n",
    "nbMonths = len(timestamps)\n",
    "for i in range(nbMonths):\n",
    "    month = timestamps[i].month\n",
    "    print(\"The average 'deaths' on month {m} is {v}\"\n",
    "              .format(m=month, v=sums[i]/arr.count(month)))"
   ]
  },
  {
   "cell_type": "markdown",
   "metadata": {},
   "source": [
    "#### Merge 3 frames"
   ]
  },
  {
   "cell_type": "code",
   "execution_count": null,
   "metadata": {
    "collapsed": false
   },
   "outputs": [],
   "source": [
    "df_all            = pd.concat([GUINEA_dframes, LIBERIA_dframes, SL_dframes])\n",
    "df_all.index      = range(len(df_all))\n",
    "df_all"
   ]
  },
  {
   "cell_type": "markdown",
   "metadata": {},
   "source": [
    "## Task 2. RNA Sequences\n",
    "\n",
    "In the `DATA_FOLDER/microbiome` subdirectory, there are 9 spreadsheets of microbiome data that was acquired from high-throughput RNA sequencing procedures, along with a 10<sup>th</sup> file that describes the content of each. \n",
    "\n",
    "Use pandas to import the first 9 spreadsheets into a single `DataFrame`.\n",
    "Then, add the metadata information from the 10<sup>th</sup> spreadsheet as columns in the combined `DataFrame`.\n",
    "Make sure that the final `DataFrame` has a unique index and all the `NaN` values have been replaced by the tag `unknown`."
   ]
  },
  {
   "cell_type": "code",
   "execution_count": null,
   "metadata": {
    "collapsed": false
   },
   "outputs": [],
   "source": [
    "PATH  = DATA_FOLDER + '/microbiome/'"
   ]
  },
  {
   "cell_type": "code",
   "execution_count": null,
   "metadata": {
    "collapsed": false
   },
   "outputs": [],
   "source": [
    "\"\"\" Read excel files\"\"\"\n",
    "\n",
    "files = [pd.ExcelFile(PATH  + file) for file in os.listdir(PATH) if file.startswith(\"MID\")]\n",
    "frames = [file.parse('Sheet 1') for file in files]"
   ]
  },
  {
   "cell_type": "code",
   "execution_count": null,
   "metadata": {
    "collapsed": true
   },
   "outputs": [],
   "source": [
    "\"\"\"Store the end possition of each sheet \"\"\"\n",
    "indexes = [len(frame) for frame in frames]"
   ]
  },
  {
   "cell_type": "code",
   "execution_count": null,
   "metadata": {
    "collapsed": false
   },
   "outputs": [],
   "source": [
    "\"\"\"Single dataframe with 9 spreadsheets\"\"\"\n",
    "for frame in frames:\n",
    "    frame.columns = ['TAXON', 'COUNT']\n",
    "micro_frames = pd.concat(frames)"
   ]
  },
  {
   "cell_type": "code",
   "execution_count": null,
   "metadata": {
    "collapsed": false
   },
   "outputs": [],
   "source": [
    "\"\"\"Import the 10th file\"\"\"\n",
    "\n",
    "metadata = [pd.ExcelFile(PATH  + file) for file in os.listdir(PATH) if file.startswith(\"meta\")]\n",
    "metadata_frame = [ frame.parse(\"Sheet1\") for frame in metadata]"
   ]
  },
  {
   "cell_type": "code",
   "execution_count": null,
   "metadata": {
    "collapsed": false
   },
   "outputs": [],
   "source": [
    "\"\"\"Create 3 numpy columns SAMPLE, BARCODE, GROUP\"\"\"\n",
    "barcode = np.array([])\n",
    "group = np.array([])\n",
    "sample = np.array([])\n",
    "for index, row in metadata_frame[0].iterrows():\n",
    "    endPos = indexes[index]\n",
    "    if pd.isnull(row['SAMPLE']): \n",
    "        sample = np.append(sample, np.array(['unknown']*endPos))\n",
    "    else :\n",
    "        sample = np.append(sample, np.array([row['SAMPLE']]*endPos))\n",
    "    barcode = np.append(barcode, np.array([row['BARCODE']]*endPos))\n",
    "    group   = np.append(group, np.array([row['GROUP']]*endPos))\n"
   ]
  },
  {
   "cell_type": "code",
   "execution_count": null,
   "metadata": {
    "collapsed": false
   },
   "outputs": [],
   "source": [
    "\"\"\"Concatenation all columns\"\"\"\n",
    "\n",
    "micro_frames['SAMPLE'] = sample\n",
    "micro_frames['BARCODE'] = barcode\n",
    "micro_frames['GROUP'] = group"
   ]
  },
  {
   "cell_type": "code",
   "execution_count": null,
   "metadata": {
    "collapsed": false
   },
   "outputs": [],
   "source": [
    "\"\"\"reorder columns AND groupby...\"\"\"\n",
    "micro_frames = micro_frames[['BARCODE', 'TAXON', 'GROUP', 'COUNT','SAMPLE']]\n",
    "micro_frames.set_index(['BARCODE', 'TAXON'])"
   ]
  },
  {
   "cell_type": "markdown",
   "metadata": {},
   "source": [
    "## Task 3. Class War in Titanic\n",
    "\n",
    "Use pandas to import the data file `Data/titanic.xls`. It contains data on all the passengers that travelled on the Titanic."
   ]
  }
 ],
 "metadata": {
  "kernelspec": {
   "display_name": "Python 3",
   "language": "python",
   "name": "python3"
  },
  "language_info": {
   "codemirror_mode": {
    "name": "ipython",
    "version": 3
   },
   "file_extension": ".py",
   "mimetype": "text/x-python",
   "name": "python",
   "nbconvert_exporter": "python",
   "pygments_lexer": "ipython3",
   "version": "3.6.0"
  }
 },
 "nbformat": 4,
 "nbformat_minor": 2
}
